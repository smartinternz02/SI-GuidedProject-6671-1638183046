{
 "cells": [
  {
   "cell_type": "markdown",
   "id": "2b586b53",
   "metadata": {},
   "source": [
    "# ZOO"
   ]
  },
  {
   "cell_type": "code",
   "execution_count": null,
   "id": "225f17f3",
   "metadata": {},
   "outputs": [],
   "source": [
    "import numpy as np\n",
    "import pandas as pd\n",
    "from matplotlib import pyplot as pyp"
   ]
  },
  {
   "cell_type": "code",
   "execution_count": 5,
   "id": "f32f48a0",
   "metadata": {},
   "outputs": [],
   "source": [
    "df=pd.read_csv(r\"zoo.csv\")"
   ]
  },
  {
   "cell_type": "code",
   "execution_count": 6,
   "id": "ebc83941",
   "metadata": {},
   "outputs": [
    {
     "data": {
      "text/html": [
       "<div>\n",
       "<style scoped>\n",
       "    .dataframe tbody tr th:only-of-type {\n",
       "        vertical-align: middle;\n",
       "    }\n",
       "\n",
       "    .dataframe tbody tr th {\n",
       "        vertical-align: top;\n",
       "    }\n",
       "\n",
       "    .dataframe thead th {\n",
       "        text-align: right;\n",
       "    }\n",
       "</style>\n",
       "<table border=\"1\" class=\"dataframe\">\n",
       "  <thead>\n",
       "    <tr style=\"text-align: right;\">\n",
       "      <th></th>\n",
       "      <th>animal_name</th>\n",
       "      <th>hair</th>\n",
       "      <th>feathers</th>\n",
       "      <th>eggs</th>\n",
       "      <th>milk</th>\n",
       "      <th>airborne</th>\n",
       "      <th>aquatic</th>\n",
       "      <th>predator</th>\n",
       "      <th>toothed</th>\n",
       "      <th>backbone</th>\n",
       "      <th>breathes</th>\n",
       "      <th>venomous</th>\n",
       "      <th>fins</th>\n",
       "      <th>legs</th>\n",
       "      <th>tail</th>\n",
       "      <th>domestic</th>\n",
       "      <th>catsize</th>\n",
       "      <th>class_type</th>\n",
       "    </tr>\n",
       "  </thead>\n",
       "  <tbody>\n",
       "    <tr>\n",
       "      <th>0</th>\n",
       "      <td>aardvark</td>\n",
       "      <td>1</td>\n",
       "      <td>0</td>\n",
       "      <td>0</td>\n",
       "      <td>1</td>\n",
       "      <td>0</td>\n",
       "      <td>0</td>\n",
       "      <td>1</td>\n",
       "      <td>1</td>\n",
       "      <td>1</td>\n",
       "      <td>1</td>\n",
       "      <td>0</td>\n",
       "      <td>0</td>\n",
       "      <td>4</td>\n",
       "      <td>0</td>\n",
       "      <td>0</td>\n",
       "      <td>1</td>\n",
       "      <td>1</td>\n",
       "    </tr>\n",
       "    <tr>\n",
       "      <th>1</th>\n",
       "      <td>antelope</td>\n",
       "      <td>1</td>\n",
       "      <td>0</td>\n",
       "      <td>0</td>\n",
       "      <td>1</td>\n",
       "      <td>0</td>\n",
       "      <td>0</td>\n",
       "      <td>0</td>\n",
       "      <td>1</td>\n",
       "      <td>1</td>\n",
       "      <td>1</td>\n",
       "      <td>0</td>\n",
       "      <td>0</td>\n",
       "      <td>4</td>\n",
       "      <td>1</td>\n",
       "      <td>0</td>\n",
       "      <td>1</td>\n",
       "      <td>1</td>\n",
       "    </tr>\n",
       "    <tr>\n",
       "      <th>2</th>\n",
       "      <td>bass</td>\n",
       "      <td>0</td>\n",
       "      <td>0</td>\n",
       "      <td>1</td>\n",
       "      <td>0</td>\n",
       "      <td>0</td>\n",
       "      <td>1</td>\n",
       "      <td>1</td>\n",
       "      <td>1</td>\n",
       "      <td>1</td>\n",
       "      <td>0</td>\n",
       "      <td>0</td>\n",
       "      <td>1</td>\n",
       "      <td>0</td>\n",
       "      <td>1</td>\n",
       "      <td>0</td>\n",
       "      <td>0</td>\n",
       "      <td>4</td>\n",
       "    </tr>\n",
       "    <tr>\n",
       "      <th>3</th>\n",
       "      <td>bear</td>\n",
       "      <td>1</td>\n",
       "      <td>0</td>\n",
       "      <td>0</td>\n",
       "      <td>1</td>\n",
       "      <td>0</td>\n",
       "      <td>0</td>\n",
       "      <td>1</td>\n",
       "      <td>1</td>\n",
       "      <td>1</td>\n",
       "      <td>1</td>\n",
       "      <td>0</td>\n",
       "      <td>0</td>\n",
       "      <td>4</td>\n",
       "      <td>0</td>\n",
       "      <td>0</td>\n",
       "      <td>1</td>\n",
       "      <td>1</td>\n",
       "    </tr>\n",
       "    <tr>\n",
       "      <th>4</th>\n",
       "      <td>boar</td>\n",
       "      <td>1</td>\n",
       "      <td>0</td>\n",
       "      <td>0</td>\n",
       "      <td>1</td>\n",
       "      <td>0</td>\n",
       "      <td>0</td>\n",
       "      <td>1</td>\n",
       "      <td>1</td>\n",
       "      <td>1</td>\n",
       "      <td>1</td>\n",
       "      <td>0</td>\n",
       "      <td>0</td>\n",
       "      <td>4</td>\n",
       "      <td>1</td>\n",
       "      <td>0</td>\n",
       "      <td>1</td>\n",
       "      <td>1</td>\n",
       "    </tr>\n",
       "  </tbody>\n",
       "</table>\n",
       "</div>"
      ],
      "text/plain": [
       "  animal_name  hair  feathers  eggs  milk  airborne  aquatic  predator  \\\n",
       "0    aardvark     1         0     0     1         0        0         1   \n",
       "1    antelope     1         0     0     1         0        0         0   \n",
       "2        bass     0         0     1     0         0        1         1   \n",
       "3        bear     1         0     0     1         0        0         1   \n",
       "4        boar     1         0     0     1         0        0         1   \n",
       "\n",
       "   toothed  backbone  breathes  venomous  fins  legs  tail  domestic  catsize  \\\n",
       "0        1         1         1         0     0     4     0         0        1   \n",
       "1        1         1         1         0     0     4     1         0        1   \n",
       "2        1         1         0         0     1     0     1         0        0   \n",
       "3        1         1         1         0     0     4     0         0        1   \n",
       "4        1         1         1         0     0     4     1         0        1   \n",
       "\n",
       "   class_type  \n",
       "0           1  \n",
       "1           1  \n",
       "2           4  \n",
       "3           1  \n",
       "4           1  "
      ]
     },
     "execution_count": 6,
     "metadata": {},
     "output_type": "execute_result"
    }
   ],
   "source": [
    "df.head()"
   ]
  },
  {
   "cell_type": "code",
   "execution_count": 7,
   "id": "6cdb1d43",
   "metadata": {},
   "outputs": [
    {
     "data": {
      "text/plain": [
       "<bound method DataFrame.info of     animal_name  hair  feathers  eggs  milk  airborne  aquatic  predator  \\\n",
       "0      aardvark     1         0     0     1         0        0         1   \n",
       "1      antelope     1         0     0     1         0        0         0   \n",
       "2          bass     0         0     1     0         0        1         1   \n",
       "3          bear     1         0     0     1         0        0         1   \n",
       "4          boar     1         0     0     1         0        0         1   \n",
       "..          ...   ...       ...   ...   ...       ...      ...       ...   \n",
       "96      wallaby     1         0     0     1         0        0         0   \n",
       "97         wasp     1         0     1     0         1        0         0   \n",
       "98         wolf     1         0     0     1         0        0         1   \n",
       "99         worm     0         0     1     0         0        0         0   \n",
       "100        wren     0         1     1     0         1        0         0   \n",
       "\n",
       "     toothed  backbone  breathes  venomous  fins  legs  tail  domestic  \\\n",
       "0          1         1         1         0     0     4     0         0   \n",
       "1          1         1         1         0     0     4     1         0   \n",
       "2          1         1         0         0     1     0     1         0   \n",
       "3          1         1         1         0     0     4     0         0   \n",
       "4          1         1         1         0     0     4     1         0   \n",
       "..       ...       ...       ...       ...   ...   ...   ...       ...   \n",
       "96         1         1         1         0     0     2     1         0   \n",
       "97         0         0         1         1     0     6     0         0   \n",
       "98         1         1         1         0     0     4     1         0   \n",
       "99         0         0         1         0     0     0     0         0   \n",
       "100        0         1         1         0     0     2     1         0   \n",
       "\n",
       "     catsize  class_type  \n",
       "0          1           1  \n",
       "1          1           1  \n",
       "2          0           4  \n",
       "3          1           1  \n",
       "4          1           1  \n",
       "..       ...         ...  \n",
       "96         1           1  \n",
       "97         0           6  \n",
       "98         1           1  \n",
       "99         0           7  \n",
       "100        0           2  \n",
       "\n",
       "[101 rows x 18 columns]>"
      ]
     },
     "execution_count": 7,
     "metadata": {},
     "output_type": "execute_result"
    }
   ],
   "source": [
    "df.info"
   ]
  },
  {
   "cell_type": "code",
   "execution_count": 10,
   "id": "91dcaddf",
   "metadata": {},
   "outputs": [
    {
     "data": {
      "text/plain": [
       "animal_name    0\n",
       "hair           0\n",
       "feathers       0\n",
       "eggs           0\n",
       "milk           0\n",
       "airborne       0\n",
       "aquatic        0\n",
       "predator       0\n",
       "toothed        0\n",
       "backbone       0\n",
       "breathes       0\n",
       "venomous       0\n",
       "fins           0\n",
       "legs           0\n",
       "tail           0\n",
       "domestic       0\n",
       "catsize        0\n",
       "class_type     0\n",
       "dtype: int64"
      ]
     },
     "execution_count": 10,
     "metadata": {},
     "output_type": "execute_result"
    }
   ],
   "source": [
    "df.isnull().sum()"
   ]
  },
  {
   "cell_type": "code",
   "execution_count": 9,
   "id": "cfcbcc22",
   "metadata": {},
   "outputs": [
    {
     "data": {
      "text/html": [
       "<div>\n",
       "<style scoped>\n",
       "    .dataframe tbody tr th:only-of-type {\n",
       "        vertical-align: middle;\n",
       "    }\n",
       "\n",
       "    .dataframe tbody tr th {\n",
       "        vertical-align: top;\n",
       "    }\n",
       "\n",
       "    .dataframe thead th {\n",
       "        text-align: right;\n",
       "    }\n",
       "</style>\n",
       "<table border=\"1\" class=\"dataframe\">\n",
       "  <thead>\n",
       "    <tr style=\"text-align: right;\">\n",
       "      <th></th>\n",
       "      <th>hair</th>\n",
       "      <th>feathers</th>\n",
       "      <th>eggs</th>\n",
       "      <th>milk</th>\n",
       "      <th>airborne</th>\n",
       "      <th>aquatic</th>\n",
       "      <th>predator</th>\n",
       "      <th>toothed</th>\n",
       "      <th>backbone</th>\n",
       "      <th>breathes</th>\n",
       "      <th>venomous</th>\n",
       "      <th>fins</th>\n",
       "      <th>legs</th>\n",
       "      <th>tail</th>\n",
       "      <th>domestic</th>\n",
       "      <th>catsize</th>\n",
       "      <th>class_type</th>\n",
       "    </tr>\n",
       "  </thead>\n",
       "  <tbody>\n",
       "    <tr>\n",
       "      <th>count</th>\n",
       "      <td>101.000000</td>\n",
       "      <td>101.000000</td>\n",
       "      <td>101.000000</td>\n",
       "      <td>101.000000</td>\n",
       "      <td>101.000000</td>\n",
       "      <td>101.000000</td>\n",
       "      <td>101.000000</td>\n",
       "      <td>101.000000</td>\n",
       "      <td>101.000000</td>\n",
       "      <td>101.000000</td>\n",
       "      <td>101.000000</td>\n",
       "      <td>101.000000</td>\n",
       "      <td>101.000000</td>\n",
       "      <td>101.000000</td>\n",
       "      <td>101.000000</td>\n",
       "      <td>101.000000</td>\n",
       "      <td>101.000000</td>\n",
       "    </tr>\n",
       "    <tr>\n",
       "      <th>mean</th>\n",
       "      <td>0.425743</td>\n",
       "      <td>0.198020</td>\n",
       "      <td>0.584158</td>\n",
       "      <td>0.405941</td>\n",
       "      <td>0.237624</td>\n",
       "      <td>0.356436</td>\n",
       "      <td>0.554455</td>\n",
       "      <td>0.603960</td>\n",
       "      <td>0.821782</td>\n",
       "      <td>0.792079</td>\n",
       "      <td>0.079208</td>\n",
       "      <td>0.168317</td>\n",
       "      <td>2.841584</td>\n",
       "      <td>0.742574</td>\n",
       "      <td>0.128713</td>\n",
       "      <td>0.435644</td>\n",
       "      <td>2.831683</td>\n",
       "    </tr>\n",
       "    <tr>\n",
       "      <th>std</th>\n",
       "      <td>0.496921</td>\n",
       "      <td>0.400495</td>\n",
       "      <td>0.495325</td>\n",
       "      <td>0.493522</td>\n",
       "      <td>0.427750</td>\n",
       "      <td>0.481335</td>\n",
       "      <td>0.499505</td>\n",
       "      <td>0.491512</td>\n",
       "      <td>0.384605</td>\n",
       "      <td>0.407844</td>\n",
       "      <td>0.271410</td>\n",
       "      <td>0.376013</td>\n",
       "      <td>2.033385</td>\n",
       "      <td>0.439397</td>\n",
       "      <td>0.336552</td>\n",
       "      <td>0.498314</td>\n",
       "      <td>2.102709</td>\n",
       "    </tr>\n",
       "    <tr>\n",
       "      <th>min</th>\n",
       "      <td>0.000000</td>\n",
       "      <td>0.000000</td>\n",
       "      <td>0.000000</td>\n",
       "      <td>0.000000</td>\n",
       "      <td>0.000000</td>\n",
       "      <td>0.000000</td>\n",
       "      <td>0.000000</td>\n",
       "      <td>0.000000</td>\n",
       "      <td>0.000000</td>\n",
       "      <td>0.000000</td>\n",
       "      <td>0.000000</td>\n",
       "      <td>0.000000</td>\n",
       "      <td>0.000000</td>\n",
       "      <td>0.000000</td>\n",
       "      <td>0.000000</td>\n",
       "      <td>0.000000</td>\n",
       "      <td>1.000000</td>\n",
       "    </tr>\n",
       "    <tr>\n",
       "      <th>25%</th>\n",
       "      <td>0.000000</td>\n",
       "      <td>0.000000</td>\n",
       "      <td>0.000000</td>\n",
       "      <td>0.000000</td>\n",
       "      <td>0.000000</td>\n",
       "      <td>0.000000</td>\n",
       "      <td>0.000000</td>\n",
       "      <td>0.000000</td>\n",
       "      <td>1.000000</td>\n",
       "      <td>1.000000</td>\n",
       "      <td>0.000000</td>\n",
       "      <td>0.000000</td>\n",
       "      <td>2.000000</td>\n",
       "      <td>0.000000</td>\n",
       "      <td>0.000000</td>\n",
       "      <td>0.000000</td>\n",
       "      <td>1.000000</td>\n",
       "    </tr>\n",
       "    <tr>\n",
       "      <th>50%</th>\n",
       "      <td>0.000000</td>\n",
       "      <td>0.000000</td>\n",
       "      <td>1.000000</td>\n",
       "      <td>0.000000</td>\n",
       "      <td>0.000000</td>\n",
       "      <td>0.000000</td>\n",
       "      <td>1.000000</td>\n",
       "      <td>1.000000</td>\n",
       "      <td>1.000000</td>\n",
       "      <td>1.000000</td>\n",
       "      <td>0.000000</td>\n",
       "      <td>0.000000</td>\n",
       "      <td>4.000000</td>\n",
       "      <td>1.000000</td>\n",
       "      <td>0.000000</td>\n",
       "      <td>0.000000</td>\n",
       "      <td>2.000000</td>\n",
       "    </tr>\n",
       "    <tr>\n",
       "      <th>75%</th>\n",
       "      <td>1.000000</td>\n",
       "      <td>0.000000</td>\n",
       "      <td>1.000000</td>\n",
       "      <td>1.000000</td>\n",
       "      <td>0.000000</td>\n",
       "      <td>1.000000</td>\n",
       "      <td>1.000000</td>\n",
       "      <td>1.000000</td>\n",
       "      <td>1.000000</td>\n",
       "      <td>1.000000</td>\n",
       "      <td>0.000000</td>\n",
       "      <td>0.000000</td>\n",
       "      <td>4.000000</td>\n",
       "      <td>1.000000</td>\n",
       "      <td>0.000000</td>\n",
       "      <td>1.000000</td>\n",
       "      <td>4.000000</td>\n",
       "    </tr>\n",
       "    <tr>\n",
       "      <th>max</th>\n",
       "      <td>1.000000</td>\n",
       "      <td>1.000000</td>\n",
       "      <td>1.000000</td>\n",
       "      <td>1.000000</td>\n",
       "      <td>1.000000</td>\n",
       "      <td>1.000000</td>\n",
       "      <td>1.000000</td>\n",
       "      <td>1.000000</td>\n",
       "      <td>1.000000</td>\n",
       "      <td>1.000000</td>\n",
       "      <td>1.000000</td>\n",
       "      <td>1.000000</td>\n",
       "      <td>8.000000</td>\n",
       "      <td>1.000000</td>\n",
       "      <td>1.000000</td>\n",
       "      <td>1.000000</td>\n",
       "      <td>7.000000</td>\n",
       "    </tr>\n",
       "  </tbody>\n",
       "</table>\n",
       "</div>"
      ],
      "text/plain": [
       "             hair    feathers        eggs        milk    airborne     aquatic  \\\n",
       "count  101.000000  101.000000  101.000000  101.000000  101.000000  101.000000   \n",
       "mean     0.425743    0.198020    0.584158    0.405941    0.237624    0.356436   \n",
       "std      0.496921    0.400495    0.495325    0.493522    0.427750    0.481335   \n",
       "min      0.000000    0.000000    0.000000    0.000000    0.000000    0.000000   \n",
       "25%      0.000000    0.000000    0.000000    0.000000    0.000000    0.000000   \n",
       "50%      0.000000    0.000000    1.000000    0.000000    0.000000    0.000000   \n",
       "75%      1.000000    0.000000    1.000000    1.000000    0.000000    1.000000   \n",
       "max      1.000000    1.000000    1.000000    1.000000    1.000000    1.000000   \n",
       "\n",
       "         predator     toothed    backbone    breathes    venomous        fins  \\\n",
       "count  101.000000  101.000000  101.000000  101.000000  101.000000  101.000000   \n",
       "mean     0.554455    0.603960    0.821782    0.792079    0.079208    0.168317   \n",
       "std      0.499505    0.491512    0.384605    0.407844    0.271410    0.376013   \n",
       "min      0.000000    0.000000    0.000000    0.000000    0.000000    0.000000   \n",
       "25%      0.000000    0.000000    1.000000    1.000000    0.000000    0.000000   \n",
       "50%      1.000000    1.000000    1.000000    1.000000    0.000000    0.000000   \n",
       "75%      1.000000    1.000000    1.000000    1.000000    0.000000    0.000000   \n",
       "max      1.000000    1.000000    1.000000    1.000000    1.000000    1.000000   \n",
       "\n",
       "             legs        tail    domestic     catsize  class_type  \n",
       "count  101.000000  101.000000  101.000000  101.000000  101.000000  \n",
       "mean     2.841584    0.742574    0.128713    0.435644    2.831683  \n",
       "std      2.033385    0.439397    0.336552    0.498314    2.102709  \n",
       "min      0.000000    0.000000    0.000000    0.000000    1.000000  \n",
       "25%      2.000000    0.000000    0.000000    0.000000    1.000000  \n",
       "50%      4.000000    1.000000    0.000000    0.000000    2.000000  \n",
       "75%      4.000000    1.000000    0.000000    1.000000    4.000000  \n",
       "max      8.000000    1.000000    1.000000    1.000000    7.000000  "
      ]
     },
     "execution_count": 9,
     "metadata": {},
     "output_type": "execute_result"
    }
   ],
   "source": [
    "df.describe()"
   ]
  },
  {
   "cell_type": "markdown",
   "id": "1226063d",
   "metadata": {},
   "source": [
    "# Data Visualization"
   ]
  },
  {
   "cell_type": "code",
   "execution_count": 20,
   "id": "643c5440",
   "metadata": {},
   "outputs": [
    {
     "data": {
      "text/plain": [
       "<matplotlib.collections.PathCollection at 0x223909c39a0>"
      ]
     },
     "execution_count": 20,
     "metadata": {},
     "output_type": "execute_result"
    },
    {
     "data": {
      "image/png": "[encoded data removed]",
      "text/plain": [
       "<Figure size 432x288 with 1 Axes>"
      ]
     },
     "metadata": {
      "needs_background": "light"
     },
     "output_type": "display_data"
    }
   ],
   "source": [
    "pyp.scatter(df.legs,df.class_type)"
   ]
  },
  {
   "cell_type": "code",
   "execution_count": 21,
   "id": "05c85628",
   "metadata": {},
   "outputs": [],
   "source": [
    "import seaborn as sns"
   ]
  },
  {
   "cell_type": "code",
   "execution_count": 23,
   "id": "bfb0af6d",
   "metadata": {},
   "outputs": [
    {
     "data": {
      "text/plain": [
       "<seaborn.axisgrid.FacetGrid at 0x2238f5d6340>"
      ]
     },
     "execution_count": 23,
     "metadata": {},
     "output_type": "execute_result"
    },
    {
     "data": {
      "image/png": "[encoded data removed]",
      "text/plain": [
       "<Figure size 402.375x360 with 1 Axes>"
      ]
     },
     "metadata": {
      "needs_background": "light"
     },
     "output_type": "display_data"
    }
   ],
   "source": [
    "sns.relplot(data=df,x='venomous',y='class_type',hue='legs')"
   ]
  },
  {
   "cell_type": "code",
   "execution_count": 24,
   "id": "b00a054a",
   "metadata": {},
   "outputs": [],
   "source": [
    "corr=df.corr()"
   ]
  },
  {
   "cell_type": "code",
   "execution_count": 30,
   "id": "b105587f",
   "metadata": {},
   "outputs": [
    {
     "data": {
      "text/plain": [
       "<AxesSubplot:>"
      ]
     },
     "execution_count": 30,
     "metadata": {},
     "output_type": "execute_result"
    },
    {
     "data": {
      "image/png": "[encoded data removed]",
      "text/plain": [
       "<Figure size 432x288 with 2 Axes>"
      ]
     },
     "metadata": {
      "needs_background": "light"
     },
     "output_type": "display_data"
    }
   ],
   "source": [
    "sns.heatmap(corr,linewidth=5,cmap=\"viridis\",annot=True)"
   ]
  },
  {
   "cell_type": "markdown",
   "id": "7f7589f5",
   "metadata": {},
   "source": [
    "# Finding the count of Objects"
   ]
  },
  {
   "cell_type": "code",
   "execution_count": 31,
   "id": "fbab5a3b",
   "metadata": {},
   "outputs": [
    {
     "data": {
      "text/plain": [
       "1    59\n",
       "0    42\n",
       "Name: eggs, dtype: int64"
      ]
     },
     "execution_count": 31,
     "metadata": {},
     "output_type": "execute_result"
    }
   ],
   "source": [
    "df.eggs.value_counts()"
   ]
  },
  {
   "cell_type": "code",
   "execution_count": 35,
   "id": "984ddfc3",
   "metadata": {},
   "outputs": [
    {
     "data": {
      "text/plain": [
       "1    56\n",
       "0    45\n",
       "Name: predator, dtype: int64"
      ]
     },
     "execution_count": 35,
     "metadata": {},
     "output_type": "execute_result"
    }
   ],
   "source": [
    "df.predator.value_counts()"
   ]
  },
  {
   "cell_type": "code",
   "execution_count": 40,
   "id": "eb94f7b4",
   "metadata": {},
   "outputs": [
    {
     "data": {
      "text/plain": [
       "1    83\n",
       "0    18\n",
       "Name: backbone, dtype: int64"
      ]
     },
     "execution_count": 40,
     "metadata": {},
     "output_type": "execute_result"
    }
   ],
   "source": [
    "df.backbone.value_counts()"
   ]
  },
  {
   "cell_type": "code",
   "execution_count": 42,
   "id": "e1d68405",
   "metadata": {},
   "outputs": [
    {
     "data": {
      "text/plain": [
       "4    38\n",
       "2    27\n",
       "0    23\n",
       "6    10\n",
       "8     2\n",
       "5     1\n",
       "Name: legs, dtype: int64"
      ]
     },
     "execution_count": 42,
     "metadata": {},
     "output_type": "execute_result"
    }
   ],
   "source": [
    "df.legs.value_counts()"
   ]
  },
  {
   "cell_type": "code",
   "execution_count": 44,
   "id": "67e58587",
   "metadata": {},
   "outputs": [
    {
     "data": {
      "text/plain": [
       "0    84\n",
       "1    17\n",
       "Name: fins, dtype: int64"
      ]
     },
     "execution_count": 44,
     "metadata": {},
     "output_type": "execute_result"
    }
   ],
   "source": [
    "df.fins.value_counts()"
   ]
  },
  {
   "cell_type": "code",
   "execution_count": 45,
   "id": "6cee2f15",
   "metadata": {},
   "outputs": [
    {
     "data": {
      "text/plain": [
       "0    58\n",
       "1    43\n",
       "Name: hair, dtype: int64"
      ]
     },
     "execution_count": 45,
     "metadata": {},
     "output_type": "execute_result"
    }
   ],
   "source": [
    "df.hair.value_counts()"
   ]
  },
  {
   "cell_type": "code",
   "execution_count": 46,
   "id": "d556aa54",
   "metadata": {},
   "outputs": [
    {
     "data": {
      "text/plain": [
       "0    81\n",
       "1    20\n",
       "Name: feathers, dtype: int64"
      ]
     },
     "execution_count": 46,
     "metadata": {},
     "output_type": "execute_result"
    }
   ],
   "source": [
    "df.feathers.value_counts()"
   ]
  },
  {
   "cell_type": "code",
   "execution_count": 48,
   "id": "9f0e010c",
   "metadata": {},
   "outputs": [
    {
     "data": {
      "text/plain": [
       "0    77\n",
       "1    24\n",
       "Name: airborne, dtype: int64"
      ]
     },
     "execution_count": 48,
     "metadata": {},
     "output_type": "execute_result"
    }
   ],
   "source": [
    "df.airborne.value_counts()"
   ]
  },
  {
   "cell_type": "code",
   "execution_count": 49,
   "id": "b71d2c99",
   "metadata": {},
   "outputs": [
    {
     "data": {
      "text/plain": [
       "0    65\n",
       "1    36\n",
       "Name: aquatic, dtype: int64"
      ]
     },
     "execution_count": 49,
     "metadata": {},
     "output_type": "execute_result"
    }
   ],
   "source": [
    "df.aquatic.value_counts()"
   ]
  },
  {
   "cell_type": "code",
   "execution_count": 50,
   "id": "3044a455",
   "metadata": {},
   "outputs": [
    {
     "data": {
      "text/plain": [
       "1    61\n",
       "0    40\n",
       "Name: toothed, dtype: int64"
      ]
     },
     "execution_count": 50,
     "metadata": {},
     "output_type": "execute_result"
    }
   ],
   "source": [
    "df.toothed.value_counts()"
   ]
  },
  {
   "cell_type": "code",
   "execution_count": 51,
   "id": "8cdece29",
   "metadata": {},
   "outputs": [
    {
     "data": {
      "text/plain": [
       "1    80\n",
       "0    21\n",
       "Name: breathes, dtype: int64"
      ]
     },
     "execution_count": 51,
     "metadata": {},
     "output_type": "execute_result"
    }
   ],
   "source": [
    "df.breathes.value_counts()"
   ]
  },
  {
   "cell_type": "code",
   "execution_count": 53,
   "id": "3eedd860",
   "metadata": {},
   "outputs": [
    {
     "data": {
      "text/plain": [
       "0    57\n",
       "1    44\n",
       "Name: catsize, dtype: int64"
      ]
     },
     "execution_count": 53,
     "metadata": {},
     "output_type": "execute_result"
    }
   ],
   "source": [
    "df.catsize.value_counts()"
   ]
  },
  {
   "cell_type": "code",
   "execution_count": 54,
   "id": "a8d45451",
   "metadata": {},
   "outputs": [
    {
     "data": {
      "text/plain": [
       "1    41\n",
       "2    20\n",
       "4    13\n",
       "7    10\n",
       "6     8\n",
       "3     5\n",
       "5     4\n",
       "Name: class_type, dtype: int64"
      ]
     },
     "execution_count": 54,
     "metadata": {},
     "output_type": "execute_result"
    }
   ],
   "source": [
    "df.class_type.value_counts()"
   ]
  },
  {
   "cell_type": "markdown",
   "id": "c28aa4ca",
   "metadata": {},
   "source": [
    "# Dlelting the unwanted data"
   ]
  },
  {
   "cell_type": "code",
   "execution_count": 57,
   "id": "b50dbecf",
   "metadata": {},
   "outputs": [],
   "source": [
    "df=df.drop([\"tail\",\"domestic\"],axis=1)"
   ]
  },
  {
   "cell_type": "code",
   "execution_count": 59,
   "id": "cc0978b1",
   "metadata": {},
   "outputs": [
    {
     "data": {
      "text/html": [
       "<div>\n",
       "<style scoped>\n",
       "    .dataframe tbody tr th:only-of-type {\n",
       "        vertical-align: middle;\n",
       "    }\n",
       "\n",
       "    .dataframe tbody tr th {\n",
       "        vertical-align: top;\n",
       "    }\n",
       "\n",
       "    .dataframe thead th {\n",
       "        text-align: right;\n",
       "    }\n",
       "</style>\n",
       "<table border=\"1\" class=\"dataframe\">\n",
       "  <thead>\n",
       "    <tr style=\"text-align: right;\">\n",
       "      <th></th>\n",
       "      <th>animal_name</th>\n",
       "      <th>hair</th>\n",
       "      <th>feathers</th>\n",
       "      <th>eggs</th>\n",
       "      <th>milk</th>\n",
       "      <th>airborne</th>\n",
       "      <th>aquatic</th>\n",
       "      <th>predator</th>\n",
       "      <th>toothed</th>\n",
       "      <th>backbone</th>\n",
       "      <th>breathes</th>\n",
       "      <th>venomous</th>\n",
       "      <th>fins</th>\n",
       "      <th>legs</th>\n",
       "      <th>catsize</th>\n",
       "      <th>class_type</th>\n",
       "    </tr>\n",
       "  </thead>\n",
       "  <tbody>\n",
       "    <tr>\n",
       "      <th>0</th>\n",
       "      <td>aardvark</td>\n",
       "      <td>1</td>\n",
       "      <td>0</td>\n",
       "      <td>0</td>\n",
       "      <td>1</td>\n",
       "      <td>0</td>\n",
       "      <td>0</td>\n",
       "      <td>1</td>\n",
       "      <td>1</td>\n",
       "      <td>1</td>\n",
       "      <td>1</td>\n",
       "      <td>0</td>\n",
       "      <td>0</td>\n",
       "      <td>4</td>\n",
       "      <td>1</td>\n",
       "      <td>1</td>\n",
       "    </tr>\n",
       "    <tr>\n",
       "      <th>1</th>\n",
       "      <td>antelope</td>\n",
       "      <td>1</td>\n",
       "      <td>0</td>\n",
       "      <td>0</td>\n",
       "      <td>1</td>\n",
       "      <td>0</td>\n",
       "      <td>0</td>\n",
       "      <td>0</td>\n",
       "      <td>1</td>\n",
       "      <td>1</td>\n",
       "      <td>1</td>\n",
       "      <td>0</td>\n",
       "      <td>0</td>\n",
       "      <td>4</td>\n",
       "      <td>1</td>\n",
       "      <td>1</td>\n",
       "    </tr>\n",
       "    <tr>\n",
       "      <th>2</th>\n",
       "      <td>bass</td>\n",
       "      <td>0</td>\n",
       "      <td>0</td>\n",
       "      <td>1</td>\n",
       "      <td>0</td>\n",
       "      <td>0</td>\n",
       "      <td>1</td>\n",
       "      <td>1</td>\n",
       "      <td>1</td>\n",
       "      <td>1</td>\n",
       "      <td>0</td>\n",
       "      <td>0</td>\n",
       "      <td>1</td>\n",
       "      <td>0</td>\n",
       "      <td>0</td>\n",
       "      <td>4</td>\n",
       "    </tr>\n",
       "    <tr>\n",
       "      <th>3</th>\n",
       "      <td>bear</td>\n",
       "      <td>1</td>\n",
       "      <td>0</td>\n",
       "      <td>0</td>\n",
       "      <td>1</td>\n",
       "      <td>0</td>\n",
       "      <td>0</td>\n",
       "      <td>1</td>\n",
       "      <td>1</td>\n",
       "      <td>1</td>\n",
       "      <td>1</td>\n",
       "      <td>0</td>\n",
       "      <td>0</td>\n",
       "      <td>4</td>\n",
       "      <td>1</td>\n",
       "      <td>1</td>\n",
       "    </tr>\n",
       "    <tr>\n",
       "      <th>4</th>\n",
       "      <td>boar</td>\n",
       "      <td>1</td>\n",
       "      <td>0</td>\n",
       "      <td>0</td>\n",
       "      <td>1</td>\n",
       "      <td>0</td>\n",
       "      <td>0</td>\n",
       "      <td>1</td>\n",
       "      <td>1</td>\n",
       "      <td>1</td>\n",
       "      <td>1</td>\n",
       "      <td>0</td>\n",
       "      <td>0</td>\n",
       "      <td>4</td>\n",
       "      <td>1</td>\n",
       "      <td>1</td>\n",
       "    </tr>\n",
       "  </tbody>\n",
       "</table>\n",
       "</div>"
      ],
      "text/plain": [
       "  animal_name  hair  feathers  eggs  milk  airborne  aquatic  predator  \\\n",
       "0    aardvark     1         0     0     1         0        0         1   \n",
       "1    antelope     1         0     0     1         0        0         0   \n",
       "2        bass     0         0     1     0         0        1         1   \n",
       "3        bear     1         0     0     1         0        0         1   \n",
       "4        boar     1         0     0     1         0        0         1   \n",
       "\n",
       "   toothed  backbone  breathes  venomous  fins  legs  catsize  class_type  \n",
       "0        1         1         1         0     0     4        1           1  \n",
       "1        1         1         1         0     0     4        1           1  \n",
       "2        1         1         0         0     1     0        0           4  \n",
       "3        1         1         1         0     0     4        1           1  \n",
       "4        1         1         1         0     0     4        1           1  "
      ]
     },
     "execution_count": 59,
     "metadata": {},
     "output_type": "execute_result"
    }
   ],
   "source": [
    "df.head()"
   ]
  },
  {
   "cell_type": "markdown",
   "id": "6bce0eaa",
   "metadata": {},
   "source": [
    "# Preprocessing the data"
   ]
  },
  {
   "cell_type": "code",
   "execution_count": 61,
   "id": "79c9c345",
   "metadata": {},
   "outputs": [],
   "source": [
    "from sklearn.preprocessing import LabelEncoder"
   ]
  },
  {
   "cell_type": "code",
   "execution_count": 62,
   "id": "c9c8f760",
   "metadata": {},
   "outputs": [],
   "source": [
    "le=LabelEncoder()\n",
    "df[\"animal_name\"]=le.fit_transform(df[\"animal_name\"])\n",
    "df[\"feathers\"]=le.fit_transform(df[\"feathers\"])\n",
    "df[\"airborne\"]=le.fit_transform(df[\"airborne\"])\n",
    "df[\"aquatic\"]=le.fit_transform(df[\"aquatic\"])\n",
    "df[\"venomous\"]=le.fit_transform(df[\"venomous\"])"
   ]
  },
  {
   "cell_type": "code",
   "execution_count": 63,
   "id": "669c3c09",
   "metadata": {},
   "outputs": [
    {
     "data": {
      "text/plain": [
       "(101, 16)"
      ]
     },
     "execution_count": 63,
     "metadata": {},
     "output_type": "execute_result"
    }
   ],
   "source": [
    "df.shape"
   ]
  },
  {
   "cell_type": "code",
   "execution_count": 65,
   "id": "1dcfc1cd",
   "metadata": {},
   "outputs": [
    {
     "data": {
      "text/html": [
       "<div>\n",
       "<style scoped>\n",
       "    .dataframe tbody tr th:only-of-type {\n",
       "        vertical-align: middle;\n",
       "    }\n",
       "\n",
       "    .dataframe tbody tr th {\n",
       "        vertical-align: top;\n",
       "    }\n",
       "\n",
       "    .dataframe thead th {\n",
       "        text-align: right;\n",
       "    }\n",
       "</style>\n",
       "<table border=\"1\" class=\"dataframe\">\n",
       "  <thead>\n",
       "    <tr style=\"text-align: right;\">\n",
       "      <th></th>\n",
       "      <th>animal_name</th>\n",
       "      <th>hair</th>\n",
       "      <th>feathers</th>\n",
       "      <th>eggs</th>\n",
       "      <th>milk</th>\n",
       "      <th>airborne</th>\n",
       "      <th>aquatic</th>\n",
       "      <th>predator</th>\n",
       "      <th>toothed</th>\n",
       "      <th>backbone</th>\n",
       "      <th>breathes</th>\n",
       "      <th>venomous</th>\n",
       "      <th>fins</th>\n",
       "      <th>legs</th>\n",
       "      <th>catsize</th>\n",
       "      <th>class_type</th>\n",
       "    </tr>\n",
       "  </thead>\n",
       "  <tbody>\n",
       "    <tr>\n",
       "      <th>0</th>\n",
       "      <td>0</td>\n",
       "      <td>1</td>\n",
       "      <td>0</td>\n",
       "      <td>0</td>\n",
       "      <td>1</td>\n",
       "      <td>0</td>\n",
       "      <td>0</td>\n",
       "      <td>1</td>\n",
       "      <td>1</td>\n",
       "      <td>1</td>\n",
       "      <td>1</td>\n",
       "      <td>0</td>\n",
       "      <td>0</td>\n",
       "      <td>4</td>\n",
       "      <td>1</td>\n",
       "      <td>1</td>\n",
       "    </tr>\n",
       "    <tr>\n",
       "      <th>1</th>\n",
       "      <td>1</td>\n",
       "      <td>1</td>\n",
       "      <td>0</td>\n",
       "      <td>0</td>\n",
       "      <td>1</td>\n",
       "      <td>0</td>\n",
       "      <td>0</td>\n",
       "      <td>0</td>\n",
       "      <td>1</td>\n",
       "      <td>1</td>\n",
       "      <td>1</td>\n",
       "      <td>0</td>\n",
       "      <td>0</td>\n",
       "      <td>4</td>\n",
       "      <td>1</td>\n",
       "      <td>1</td>\n",
       "    </tr>\n",
       "    <tr>\n",
       "      <th>2</th>\n",
       "      <td>2</td>\n",
       "      <td>0</td>\n",
       "      <td>0</td>\n",
       "      <td>1</td>\n",
       "      <td>0</td>\n",
       "      <td>0</td>\n",
       "      <td>1</td>\n",
       "      <td>1</td>\n",
       "      <td>1</td>\n",
       "      <td>1</td>\n",
       "      <td>0</td>\n",
       "      <td>0</td>\n",
       "      <td>1</td>\n",
       "      <td>0</td>\n",
       "      <td>0</td>\n",
       "      <td>4</td>\n",
       "    </tr>\n",
       "    <tr>\n",
       "      <th>3</th>\n",
       "      <td>3</td>\n",
       "      <td>1</td>\n",
       "      <td>0</td>\n",
       "      <td>0</td>\n",
       "      <td>1</td>\n",
       "      <td>0</td>\n",
       "      <td>0</td>\n",
       "      <td>1</td>\n",
       "      <td>1</td>\n",
       "      <td>1</td>\n",
       "      <td>1</td>\n",
       "      <td>0</td>\n",
       "      <td>0</td>\n",
       "      <td>4</td>\n",
       "      <td>1</td>\n",
       "      <td>1</td>\n",
       "    </tr>\n",
       "    <tr>\n",
       "      <th>4</th>\n",
       "      <td>4</td>\n",
       "      <td>1</td>\n",
       "      <td>0</td>\n",
       "      <td>0</td>\n",
       "      <td>1</td>\n",
       "      <td>0</td>\n",
       "      <td>0</td>\n",
       "      <td>1</td>\n",
       "      <td>1</td>\n",
       "      <td>1</td>\n",
       "      <td>1</td>\n",
       "      <td>0</td>\n",
       "      <td>0</td>\n",
       "      <td>4</td>\n",
       "      <td>1</td>\n",
       "      <td>1</td>\n",
       "    </tr>\n",
       "  </tbody>\n",
       "</table>\n",
       "</div>"
      ],
      "text/plain": [
       "   animal_name  hair  feathers  eggs  milk  airborne  aquatic  predator  \\\n",
       "0            0     1         0     0     1         0        0         1   \n",
       "1            1     1         0     0     1         0        0         0   \n",
       "2            2     0         0     1     0         0        1         1   \n",
       "3            3     1         0     0     1         0        0         1   \n",
       "4            4     1         0     0     1         0        0         1   \n",
       "\n",
       "   toothed  backbone  breathes  venomous  fins  legs  catsize  class_type  \n",
       "0        1         1         1         0     0     4        1           1  \n",
       "1        1         1         1         0     0     4        1           1  \n",
       "2        1         1         0         0     1     0        0           4  \n",
       "3        1         1         1         0     0     4        1           1  \n",
       "4        1         1         1         0     0     4        1           1  "
      ]
     },
     "execution_count": 65,
     "metadata": {},
     "output_type": "execute_result"
    }
   ],
   "source": [
    "df.head()"
   ]
  },
  {
   "cell_type": "code",
   "execution_count": 66,
   "id": "18e02457",
   "metadata": {},
   "outputs": [],
   "source": [
    "from sklearn.preprocessing import StandardScaler"
   ]
  },
  {
   "cell_type": "markdown",
   "id": "488d42bc",
   "metadata": {},
   "source": [
    "# Splitting into independent & dependent variables"
   ]
  },
  {
   "cell_type": "code",
   "execution_count": 69,
   "id": "2822706e",
   "metadata": {},
   "outputs": [],
   "source": [
    "x=df.drop(\"eggs\",axis=1)"
   ]
  },
  {
   "cell_type": "code",
   "execution_count": 70,
   "id": "b053cb64",
   "metadata": {},
   "outputs": [
    {
     "data": {
      "text/html": [
       "<div>\n",
       "<style scoped>\n",
       "    .dataframe tbody tr th:only-of-type {\n",
       "        vertical-align: middle;\n",
       "    }\n",
       "\n",
       "    .dataframe tbody tr th {\n",
       "        vertical-align: top;\n",
       "    }\n",
       "\n",
       "    .dataframe thead th {\n",
       "        text-align: right;\n",
       "    }\n",
       "</style>\n",
       "<table border=\"1\" class=\"dataframe\">\n",
       "  <thead>\n",
       "    <tr style=\"text-align: right;\">\n",
       "      <th></th>\n",
       "      <th>animal_name</th>\n",
       "      <th>hair</th>\n",
       "      <th>feathers</th>\n",
       "      <th>milk</th>\n",
       "      <th>airborne</th>\n",
       "      <th>aquatic</th>\n",
       "      <th>predator</th>\n",
       "      <th>toothed</th>\n",
       "      <th>backbone</th>\n",
       "      <th>breathes</th>\n",
       "      <th>venomous</th>\n",
       "      <th>fins</th>\n",
       "      <th>legs</th>\n",
       "      <th>catsize</th>\n",
       "      <th>class_type</th>\n",
       "    </tr>\n",
       "  </thead>\n",
       "  <tbody>\n",
       "    <tr>\n",
       "      <th>0</th>\n",
       "      <td>0</td>\n",
       "      <td>1</td>\n",
       "      <td>0</td>\n",
       "      <td>1</td>\n",
       "      <td>0</td>\n",
       "      <td>0</td>\n",
       "      <td>1</td>\n",
       "      <td>1</td>\n",
       "      <td>1</td>\n",
       "      <td>1</td>\n",
       "      <td>0</td>\n",
       "      <td>0</td>\n",
       "      <td>4</td>\n",
       "      <td>1</td>\n",
       "      <td>1</td>\n",
       "    </tr>\n",
       "    <tr>\n",
       "      <th>1</th>\n",
       "      <td>1</td>\n",
       "      <td>1</td>\n",
       "      <td>0</td>\n",
       "      <td>1</td>\n",
       "      <td>0</td>\n",
       "      <td>0</td>\n",
       "      <td>0</td>\n",
       "      <td>1</td>\n",
       "      <td>1</td>\n",
       "      <td>1</td>\n",
       "      <td>0</td>\n",
       "      <td>0</td>\n",
       "      <td>4</td>\n",
       "      <td>1</td>\n",
       "      <td>1</td>\n",
       "    </tr>\n",
       "    <tr>\n",
       "      <th>2</th>\n",
       "      <td>2</td>\n",
       "      <td>0</td>\n",
       "      <td>0</td>\n",
       "      <td>0</td>\n",
       "      <td>0</td>\n",
       "      <td>1</td>\n",
       "      <td>1</td>\n",
       "      <td>1</td>\n",
       "      <td>1</td>\n",
       "      <td>0</td>\n",
       "      <td>0</td>\n",
       "      <td>1</td>\n",
       "      <td>0</td>\n",
       "      <td>0</td>\n",
       "      <td>4</td>\n",
       "    </tr>\n",
       "    <tr>\n",
       "      <th>3</th>\n",
       "      <td>3</td>\n",
       "      <td>1</td>\n",
       "      <td>0</td>\n",
       "      <td>1</td>\n",
       "      <td>0</td>\n",
       "      <td>0</td>\n",
       "      <td>1</td>\n",
       "      <td>1</td>\n",
       "      <td>1</td>\n",
       "      <td>1</td>\n",
       "      <td>0</td>\n",
       "      <td>0</td>\n",
       "      <td>4</td>\n",
       "      <td>1</td>\n",
       "      <td>1</td>\n",
       "    </tr>\n",
       "    <tr>\n",
       "      <th>4</th>\n",
       "      <td>4</td>\n",
       "      <td>1</td>\n",
       "      <td>0</td>\n",
       "      <td>1</td>\n",
       "      <td>0</td>\n",
       "      <td>0</td>\n",
       "      <td>1</td>\n",
       "      <td>1</td>\n",
       "      <td>1</td>\n",
       "      <td>1</td>\n",
       "      <td>0</td>\n",
       "      <td>0</td>\n",
       "      <td>4</td>\n",
       "      <td>1</td>\n",
       "      <td>1</td>\n",
       "    </tr>\n",
       "    <tr>\n",
       "      <th>...</th>\n",
       "      <td>...</td>\n",
       "      <td>...</td>\n",
       "      <td>...</td>\n",
       "      <td>...</td>\n",
       "      <td>...</td>\n",
       "      <td>...</td>\n",
       "      <td>...</td>\n",
       "      <td>...</td>\n",
       "      <td>...</td>\n",
       "      <td>...</td>\n",
       "      <td>...</td>\n",
       "      <td>...</td>\n",
       "      <td>...</td>\n",
       "      <td>...</td>\n",
       "      <td>...</td>\n",
       "    </tr>\n",
       "    <tr>\n",
       "      <th>96</th>\n",
       "      <td>95</td>\n",
       "      <td>1</td>\n",
       "      <td>0</td>\n",
       "      <td>1</td>\n",
       "      <td>0</td>\n",
       "      <td>0</td>\n",
       "      <td>0</td>\n",
       "      <td>1</td>\n",
       "      <td>1</td>\n",
       "      <td>1</td>\n",
       "      <td>0</td>\n",
       "      <td>0</td>\n",
       "      <td>2</td>\n",
       "      <td>1</td>\n",
       "      <td>1</td>\n",
       "    </tr>\n",
       "    <tr>\n",
       "      <th>97</th>\n",
       "      <td>96</td>\n",
       "      <td>1</td>\n",
       "      <td>0</td>\n",
       "      <td>0</td>\n",
       "      <td>1</td>\n",
       "      <td>0</td>\n",
       "      <td>0</td>\n",
       "      <td>0</td>\n",
       "      <td>0</td>\n",
       "      <td>1</td>\n",
       "      <td>1</td>\n",
       "      <td>0</td>\n",
       "      <td>6</td>\n",
       "      <td>0</td>\n",
       "      <td>6</td>\n",
       "    </tr>\n",
       "    <tr>\n",
       "      <th>98</th>\n",
       "      <td>97</td>\n",
       "      <td>1</td>\n",
       "      <td>0</td>\n",
       "      <td>1</td>\n",
       "      <td>0</td>\n",
       "      <td>0</td>\n",
       "      <td>1</td>\n",
       "      <td>1</td>\n",
       "      <td>1</td>\n",
       "      <td>1</td>\n",
       "      <td>0</td>\n",
       "      <td>0</td>\n",
       "      <td>4</td>\n",
       "      <td>1</td>\n",
       "      <td>1</td>\n",
       "    </tr>\n",
       "    <tr>\n",
       "      <th>99</th>\n",
       "      <td>98</td>\n",
       "      <td>0</td>\n",
       "      <td>0</td>\n",
       "      <td>0</td>\n",
       "      <td>0</td>\n",
       "      <td>0</td>\n",
       "      <td>0</td>\n",
       "      <td>0</td>\n",
       "      <td>0</td>\n",
       "      <td>1</td>\n",
       "      <td>0</td>\n",
       "      <td>0</td>\n",
       "      <td>0</td>\n",
       "      <td>0</td>\n",
       "      <td>7</td>\n",
       "    </tr>\n",
       "    <tr>\n",
       "      <th>100</th>\n",
       "      <td>99</td>\n",
       "      <td>0</td>\n",
       "      <td>1</td>\n",
       "      <td>0</td>\n",
       "      <td>1</td>\n",
       "      <td>0</td>\n",
       "      <td>0</td>\n",
       "      <td>0</td>\n",
       "      <td>1</td>\n",
       "      <td>1</td>\n",
       "      <td>0</td>\n",
       "      <td>0</td>\n",
       "      <td>2</td>\n",
       "      <td>0</td>\n",
       "      <td>2</td>\n",
       "    </tr>\n",
       "  </tbody>\n",
       "</table>\n",
       "<p>101 rows × 15 columns</p>\n",
       "</div>"
      ],
      "text/plain": [
       "     animal_name  hair  feathers  milk  airborne  aquatic  predator  toothed  \\\n",
       "0              0     1         0     1         0        0         1        1   \n",
       "1              1     1         0     1         0        0         0        1   \n",
       "2              2     0         0     0         0        1         1        1   \n",
       "3              3     1         0     1         0        0         1        1   \n",
       "4              4     1         0     1         0        0         1        1   \n",
       "..           ...   ...       ...   ...       ...      ...       ...      ...   \n",
       "96            95     1         0     1         0        0         0        1   \n",
       "97            96     1         0     0         1        0         0        0   \n",
       "98            97     1         0     1         0        0         1        1   \n",
       "99            98     0         0     0         0        0         0        0   \n",
       "100           99     0         1     0         1        0         0        0   \n",
       "\n",
       "     backbone  breathes  venomous  fins  legs  catsize  class_type  \n",
       "0           1         1         0     0     4        1           1  \n",
       "1           1         1         0     0     4        1           1  \n",
       "2           1         0         0     1     0        0           4  \n",
       "3           1         1         0     0     4        1           1  \n",
       "4           1         1         0     0     4        1           1  \n",
       "..        ...       ...       ...   ...   ...      ...         ...  \n",
       "96          1         1         0     0     2        1           1  \n",
       "97          0         1         1     0     6        0           6  \n",
       "98          1         1         0     0     4        1           1  \n",
       "99          0         1         0     0     0        0           7  \n",
       "100         1         1         0     0     2        0           2  \n",
       "\n",
       "[101 rows x 15 columns]"
      ]
     },
     "execution_count": 70,
     "metadata": {},
     "output_type": "execute_result"
    }
   ],
   "source": [
    "x"
   ]
  },
  {
   "cell_type": "code",
   "execution_count": 71,
   "id": "70bf29ec",
   "metadata": {},
   "outputs": [],
   "source": [
    "y=df.iloc[:,4:5]"
   ]
  },
  {
   "cell_type": "code",
   "execution_count": 72,
   "id": "020b992d",
   "metadata": {},
   "outputs": [
    {
     "data": {
      "text/html": [
       "<div>\n",
       "<style scoped>\n",
       "    .dataframe tbody tr th:only-of-type {\n",
       "        vertical-align: middle;\n",
       "    }\n",
       "\n",
       "    .dataframe tbody tr th {\n",
       "        vertical-align: top;\n",
       "    }\n",
       "\n",
       "    .dataframe thead th {\n",
       "        text-align: right;\n",
       "    }\n",
       "</style>\n",
       "<table border=\"1\" class=\"dataframe\">\n",
       "  <thead>\n",
       "    <tr style=\"text-align: right;\">\n",
       "      <th></th>\n",
       "      <th>milk</th>\n",
       "    </tr>\n",
       "  </thead>\n",
       "  <tbody>\n",
       "    <tr>\n",
       "      <th>0</th>\n",
       "      <td>1</td>\n",
       "    </tr>\n",
       "    <tr>\n",
       "      <th>1</th>\n",
       "      <td>1</td>\n",
       "    </tr>\n",
       "    <tr>\n",
       "      <th>2</th>\n",
       "      <td>0</td>\n",
       "    </tr>\n",
       "    <tr>\n",
       "      <th>3</th>\n",
       "      <td>1</td>\n",
       "    </tr>\n",
       "    <tr>\n",
       "      <th>4</th>\n",
       "      <td>1</td>\n",
       "    </tr>\n",
       "    <tr>\n",
       "      <th>...</th>\n",
       "      <td>...</td>\n",
       "    </tr>\n",
       "    <tr>\n",
       "      <th>96</th>\n",
       "      <td>1</td>\n",
       "    </tr>\n",
       "    <tr>\n",
       "      <th>97</th>\n",
       "      <td>0</td>\n",
       "    </tr>\n",
       "    <tr>\n",
       "      <th>98</th>\n",
       "      <td>1</td>\n",
       "    </tr>\n",
       "    <tr>\n",
       "      <th>99</th>\n",
       "      <td>0</td>\n",
       "    </tr>\n",
       "    <tr>\n",
       "      <th>100</th>\n",
       "      <td>0</td>\n",
       "    </tr>\n",
       "  </tbody>\n",
       "</table>\n",
       "<p>101 rows × 1 columns</p>\n",
       "</div>"
      ],
      "text/plain": [
       "     milk\n",
       "0       1\n",
       "1       1\n",
       "2       0\n",
       "3       1\n",
       "4       1\n",
       "..    ...\n",
       "96      1\n",
       "97      0\n",
       "98      1\n",
       "99      0\n",
       "100     0\n",
       "\n",
       "[101 rows x 1 columns]"
      ]
     },
     "execution_count": 72,
     "metadata": {},
     "output_type": "execute_result"
    }
   ],
   "source": [
    "y"
   ]
  },
  {
   "cell_type": "code",
   "execution_count": 73,
   "id": "1840abcd",
   "metadata": {},
   "outputs": [],
   "source": [
    "ss=StandardScaler()\n",
    "x=ss.fit_transform(x)\n",
    "y=ss.fit_transform(y)"
   ]
  },
  {
   "cell_type": "code",
   "execution_count": 74,
   "id": "9ae83ff1",
   "metadata": {},
   "outputs": [
    {
     "data": {
      "text/plain": [
       "(101, 15)"
      ]
     },
     "execution_count": 74,
     "metadata": {},
     "output_type": "execute_result"
    }
   ],
   "source": [
    "x.shape"
   ]
  },
  {
   "cell_type": "code",
   "execution_count": 75,
   "id": "430df71f",
   "metadata": {},
   "outputs": [
    {
     "data": {
      "text/plain": [
       "(101, 1)"
      ]
     },
     "execution_count": 75,
     "metadata": {},
     "output_type": "execute_result"
    }
   ],
   "source": [
    "y.shape"
   ]
  },
  {
   "cell_type": "code",
   "execution_count": 76,
   "id": "1b471d73",
   "metadata": {},
   "outputs": [],
   "source": [
    "x=pd.DataFrame(x)"
   ]
  },
  {
   "cell_type": "code",
   "execution_count": 77,
   "id": "96c870ec",
   "metadata": {},
   "outputs": [
    {
     "data": {
      "text/html": [
       "<div>\n",
       "<style scoped>\n",
       "    .dataframe tbody tr th:only-of-type {\n",
       "        vertical-align: middle;\n",
       "    }\n",
       "\n",
       "    .dataframe tbody tr th {\n",
       "        vertical-align: top;\n",
       "    }\n",
       "\n",
       "    .dataframe thead th {\n",
       "        text-align: right;\n",
       "    }\n",
       "</style>\n",
       "<table border=\"1\" class=\"dataframe\">\n",
       "  <thead>\n",
       "    <tr style=\"text-align: right;\">\n",
       "      <th></th>\n",
       "      <th>0</th>\n",
       "      <th>1</th>\n",
       "      <th>2</th>\n",
       "      <th>3</th>\n",
       "      <th>4</th>\n",
       "      <th>5</th>\n",
       "      <th>6</th>\n",
       "      <th>7</th>\n",
       "      <th>8</th>\n",
       "      <th>9</th>\n",
       "      <th>10</th>\n",
       "      <th>11</th>\n",
       "      <th>12</th>\n",
       "      <th>13</th>\n",
       "      <th>14</th>\n",
       "    </tr>\n",
       "  </thead>\n",
       "  <tbody>\n",
       "    <tr>\n",
       "      <th>0</th>\n",
       "      <td>-1.708840</td>\n",
       "      <td>1.161395</td>\n",
       "      <td>-0.496904</td>\n",
       "      <td>1.209717</td>\n",
       "      <td>-0.558291</td>\n",
       "      <td>-0.744208</td>\n",
       "      <td>0.896421</td>\n",
       "      <td>0.809776</td>\n",
       "      <td>0.46569</td>\n",
       "      <td>0.512348</td>\n",
       "      <td>-0.293294</td>\n",
       "      <td>-0.449868</td>\n",
       "      <td>0.572540</td>\n",
       "      <td>1.138180</td>\n",
       "      <td>-0.875451</td>\n",
       "    </tr>\n",
       "    <tr>\n",
       "      <th>1</th>\n",
       "      <td>-1.674148</td>\n",
       "      <td>1.161395</td>\n",
       "      <td>-0.496904</td>\n",
       "      <td>1.209717</td>\n",
       "      <td>-0.558291</td>\n",
       "      <td>-0.744208</td>\n",
       "      <td>-1.115547</td>\n",
       "      <td>0.809776</td>\n",
       "      <td>0.46569</td>\n",
       "      <td>0.512348</td>\n",
       "      <td>-0.293294</td>\n",
       "      <td>-0.449868</td>\n",
       "      <td>0.572540</td>\n",
       "      <td>1.138180</td>\n",
       "      <td>-0.875451</td>\n",
       "    </tr>\n",
       "    <tr>\n",
       "      <th>2</th>\n",
       "      <td>-1.639456</td>\n",
       "      <td>-0.861034</td>\n",
       "      <td>-0.496904</td>\n",
       "      <td>-0.826640</td>\n",
       "      <td>-0.558291</td>\n",
       "      <td>1.343710</td>\n",
       "      <td>0.896421</td>\n",
       "      <td>0.809776</td>\n",
       "      <td>0.46569</td>\n",
       "      <td>-1.951800</td>\n",
       "      <td>-0.293294</td>\n",
       "      <td>2.222876</td>\n",
       "      <td>-1.404435</td>\n",
       "      <td>-0.878595</td>\n",
       "      <td>0.558396</td>\n",
       "    </tr>\n",
       "    <tr>\n",
       "      <th>3</th>\n",
       "      <td>-1.604764</td>\n",
       "      <td>1.161395</td>\n",
       "      <td>-0.496904</td>\n",
       "      <td>1.209717</td>\n",
       "      <td>-0.558291</td>\n",
       "      <td>-0.744208</td>\n",
       "      <td>0.896421</td>\n",
       "      <td>0.809776</td>\n",
       "      <td>0.46569</td>\n",
       "      <td>0.512348</td>\n",
       "      <td>-0.293294</td>\n",
       "      <td>-0.449868</td>\n",
       "      <td>0.572540</td>\n",
       "      <td>1.138180</td>\n",
       "      <td>-0.875451</td>\n",
       "    </tr>\n",
       "    <tr>\n",
       "      <th>4</th>\n",
       "      <td>-1.570072</td>\n",
       "      <td>1.161395</td>\n",
       "      <td>-0.496904</td>\n",
       "      <td>1.209717</td>\n",
       "      <td>-0.558291</td>\n",
       "      <td>-0.744208</td>\n",
       "      <td>0.896421</td>\n",
       "      <td>0.809776</td>\n",
       "      <td>0.46569</td>\n",
       "      <td>0.512348</td>\n",
       "      <td>-0.293294</td>\n",
       "      <td>-0.449868</td>\n",
       "      <td>0.572540</td>\n",
       "      <td>1.138180</td>\n",
       "      <td>-0.875451</td>\n",
       "    </tr>\n",
       "  </tbody>\n",
       "</table>\n",
       "</div>"
      ],
      "text/plain": [
       "         0         1         2         3         4         5         6   \\\n",
       "0 -1.708840  1.161395 -0.496904  1.209717 -0.558291 -0.744208  0.896421   \n",
       "1 -1.674148  1.161395 -0.496904  1.209717 -0.558291 -0.744208 -1.115547   \n",
       "2 -1.639456 -0.861034 -0.496904 -0.826640 -0.558291  1.343710  0.896421   \n",
       "3 -1.604764  1.161395 -0.496904  1.209717 -0.558291 -0.744208  0.896421   \n",
       "4 -1.570072  1.161395 -0.496904  1.209717 -0.558291 -0.744208  0.896421   \n",
       "\n",
       "         7        8         9         10        11        12        13  \\\n",
       "0  0.809776  0.46569  0.512348 -0.293294 -0.449868  0.572540  1.138180   \n",
       "1  0.809776  0.46569  0.512348 -0.293294 -0.449868  0.572540  1.138180   \n",
       "2  0.809776  0.46569 -1.951800 -0.293294  2.222876 -1.404435 -0.878595   \n",
       "3  0.809776  0.46569  0.512348 -0.293294 -0.449868  0.572540  1.138180   \n",
       "4  0.809776  0.46569  0.512348 -0.293294 -0.449868  0.572540  1.138180   \n",
       "\n",
       "         14  \n",
       "0 -0.875451  \n",
       "1 -0.875451  \n",
       "2  0.558396  \n",
       "3 -0.875451  \n",
       "4 -0.875451  "
      ]
     },
     "execution_count": 77,
     "metadata": {},
     "output_type": "execute_result"
    }
   ],
   "source": [
    "x.head()"
   ]
  },
  {
   "cell_type": "code",
   "execution_count": 78,
   "id": "5c5f54cc",
   "metadata": {},
   "outputs": [
    {
     "data": {
      "text/html": [
       "<div>\n",
       "<style scoped>\n",
       "    .dataframe tbody tr th:only-of-type {\n",
       "        vertical-align: middle;\n",
       "    }\n",
       "\n",
       "    .dataframe tbody tr th {\n",
       "        vertical-align: top;\n",
       "    }\n",
       "\n",
       "    .dataframe thead th {\n",
       "        text-align: right;\n",
       "    }\n",
       "</style>\n",
       "<table border=\"1\" class=\"dataframe\">\n",
       "  <thead>\n",
       "    <tr style=\"text-align: right;\">\n",
       "      <th></th>\n",
       "      <th>0</th>\n",
       "    </tr>\n",
       "  </thead>\n",
       "  <tbody>\n",
       "    <tr>\n",
       "      <th>0</th>\n",
       "      <td>1.209717</td>\n",
       "    </tr>\n",
       "    <tr>\n",
       "      <th>1</th>\n",
       "      <td>1.209717</td>\n",
       "    </tr>\n",
       "    <tr>\n",
       "      <th>2</th>\n",
       "      <td>-0.826640</td>\n",
       "    </tr>\n",
       "    <tr>\n",
       "      <th>3</th>\n",
       "      <td>1.209717</td>\n",
       "    </tr>\n",
       "    <tr>\n",
       "      <th>4</th>\n",
       "      <td>1.209717</td>\n",
       "    </tr>\n",
       "  </tbody>\n",
       "</table>\n",
       "</div>"
      ],
      "text/plain": [
       "          0\n",
       "0  1.209717\n",
       "1  1.209717\n",
       "2 -0.826640\n",
       "3  1.209717\n",
       "4  1.209717"
      ]
     },
     "execution_count": 78,
     "metadata": {},
     "output_type": "execute_result"
    }
   ],
   "source": [
    "y=pd.DataFrame(y)\n",
    "y.head()"
   ]
  },
  {
   "cell_type": "markdown",
   "id": "92c25248",
   "metadata": {},
   "source": [
    "# Splitting into Train and Teast Data"
   ]
  },
  {
   "cell_type": "code",
   "execution_count": 110,
   "id": "e44de240",
   "metadata": {},
   "outputs": [],
   "source": [
    "from sklearn.model_selection import train_test_split\n",
    "x_train,x_test,y_train,y_test=train_test_split(x,y,test_size=0.2,random_state=0)"
   ]
  },
  {
   "cell_type": "code",
   "execution_count": 111,
   "id": "dc08916a",
   "metadata": {},
   "outputs": [
    {
     "name": "stdout",
     "output_type": "stream",
     "text": [
      "(80, 15)\n",
      "(21, 15)\n",
      "(80, 1)\n",
      "(21, 1)\n"
     ]
    }
   ],
   "source": [
    "print(x_train.shape)\n",
    "print(x_test.shape)\n",
    "print(y_train.shape)\n",
    "print(y_test.shape)"
   ]
  },
  {
   "cell_type": "code",
   "execution_count": 112,
   "id": "67280801",
   "metadata": {},
   "outputs": [
    {
     "data": {
      "text/html": [
       "<div>\n",
       "<style scoped>\n",
       "    .dataframe tbody tr th:only-of-type {\n",
       "        vertical-align: middle;\n",
       "    }\n",
       "\n",
       "    .dataframe tbody tr th {\n",
       "        vertical-align: top;\n",
       "    }\n",
       "\n",
       "    .dataframe thead th {\n",
       "        text-align: right;\n",
       "    }\n",
       "</style>\n",
       "<table border=\"1\" class=\"dataframe\">\n",
       "  <thead>\n",
       "    <tr style=\"text-align: right;\">\n",
       "      <th></th>\n",
       "      <th>0</th>\n",
       "      <th>1</th>\n",
       "      <th>2</th>\n",
       "      <th>3</th>\n",
       "      <th>4</th>\n",
       "      <th>5</th>\n",
       "      <th>6</th>\n",
       "      <th>7</th>\n",
       "      <th>8</th>\n",
       "      <th>9</th>\n",
       "      <th>10</th>\n",
       "      <th>11</th>\n",
       "      <th>12</th>\n",
       "      <th>13</th>\n",
       "      <th>14</th>\n",
       "    </tr>\n",
       "  </thead>\n",
       "  <tbody>\n",
       "    <tr>\n",
       "      <th>62</th>\n",
       "      <td>0.407374</td>\n",
       "      <td>-0.861034</td>\n",
       "      <td>-0.496904</td>\n",
       "      <td>-0.826640</td>\n",
       "      <td>-0.558291</td>\n",
       "      <td>-0.744208</td>\n",
       "      <td>0.896421</td>\n",
       "      <td>0.809776</td>\n",
       "      <td>0.46569</td>\n",
       "      <td>0.512348</td>\n",
       "      <td>3.409545</td>\n",
       "      <td>-0.449868</td>\n",
       "      <td>-1.404435</td>\n",
       "      <td>-0.878595</td>\n",
       "      <td>0.080447</td>\n",
       "    </tr>\n",
       "    <tr>\n",
       "      <th>3</th>\n",
       "      <td>-1.604764</td>\n",
       "      <td>1.161395</td>\n",
       "      <td>-0.496904</td>\n",
       "      <td>1.209717</td>\n",
       "      <td>-0.558291</td>\n",
       "      <td>-0.744208</td>\n",
       "      <td>0.896421</td>\n",
       "      <td>0.809776</td>\n",
       "      <td>0.46569</td>\n",
       "      <td>0.512348</td>\n",
       "      <td>-0.293294</td>\n",
       "      <td>-0.449868</td>\n",
       "      <td>0.572540</td>\n",
       "      <td>1.138180</td>\n",
       "      <td>-0.875451</td>\n",
       "    </tr>\n",
       "    <tr>\n",
       "      <th>71</th>\n",
       "      <td>0.719602</td>\n",
       "      <td>-0.861034</td>\n",
       "      <td>2.012461</td>\n",
       "      <td>-0.826640</td>\n",
       "      <td>-0.558291</td>\n",
       "      <td>-0.744208</td>\n",
       "      <td>0.896421</td>\n",
       "      <td>-1.234909</td>\n",
       "      <td>0.46569</td>\n",
       "      <td>0.512348</td>\n",
       "      <td>-0.293294</td>\n",
       "      <td>-0.449868</td>\n",
       "      <td>-0.415948</td>\n",
       "      <td>1.138180</td>\n",
       "      <td>-0.397502</td>\n",
       "    </tr>\n",
       "    <tr>\n",
       "      <th>45</th>\n",
       "      <td>-0.182391</td>\n",
       "      <td>1.161395</td>\n",
       "      <td>-0.496904</td>\n",
       "      <td>1.209717</td>\n",
       "      <td>-0.558291</td>\n",
       "      <td>-0.744208</td>\n",
       "      <td>0.896421</td>\n",
       "      <td>0.809776</td>\n",
       "      <td>0.46569</td>\n",
       "      <td>0.512348</td>\n",
       "      <td>-0.293294</td>\n",
       "      <td>-0.449868</td>\n",
       "      <td>0.572540</td>\n",
       "      <td>1.138180</td>\n",
       "      <td>-0.875451</td>\n",
       "    </tr>\n",
       "    <tr>\n",
       "      <th>48</th>\n",
       "      <td>-0.078315</td>\n",
       "      <td>1.161395</td>\n",
       "      <td>-0.496904</td>\n",
       "      <td>1.209717</td>\n",
       "      <td>-0.558291</td>\n",
       "      <td>1.343710</td>\n",
       "      <td>0.896421</td>\n",
       "      <td>0.809776</td>\n",
       "      <td>0.46569</td>\n",
       "      <td>0.512348</td>\n",
       "      <td>-0.293294</td>\n",
       "      <td>-0.449868</td>\n",
       "      <td>0.572540</td>\n",
       "      <td>1.138180</td>\n",
       "      <td>-0.875451</td>\n",
       "    </tr>\n",
       "    <tr>\n",
       "      <th>...</th>\n",
       "      <td>...</td>\n",
       "      <td>...</td>\n",
       "      <td>...</td>\n",
       "      <td>...</td>\n",
       "      <td>...</td>\n",
       "      <td>...</td>\n",
       "      <td>...</td>\n",
       "      <td>...</td>\n",
       "      <td>...</td>\n",
       "      <td>...</td>\n",
       "      <td>...</td>\n",
       "      <td>...</td>\n",
       "      <td>...</td>\n",
       "      <td>...</td>\n",
       "      <td>...</td>\n",
       "    </tr>\n",
       "    <tr>\n",
       "      <th>97</th>\n",
       "      <td>1.621595</td>\n",
       "      <td>1.161395</td>\n",
       "      <td>-0.496904</td>\n",
       "      <td>-0.826640</td>\n",
       "      <td>1.791182</td>\n",
       "      <td>-0.744208</td>\n",
       "      <td>-1.115547</td>\n",
       "      <td>-1.234909</td>\n",
       "      <td>-2.14735</td>\n",
       "      <td>0.512348</td>\n",
       "      <td>3.409545</td>\n",
       "      <td>-0.449868</td>\n",
       "      <td>1.561027</td>\n",
       "      <td>-0.878595</td>\n",
       "      <td>1.514294</td>\n",
       "    </tr>\n",
       "    <tr>\n",
       "      <th>67</th>\n",
       "      <td>0.580834</td>\n",
       "      <td>1.161395</td>\n",
       "      <td>-0.496904</td>\n",
       "      <td>1.209717</td>\n",
       "      <td>-0.558291</td>\n",
       "      <td>-0.744208</td>\n",
       "      <td>0.896421</td>\n",
       "      <td>0.809776</td>\n",
       "      <td>0.46569</td>\n",
       "      <td>0.512348</td>\n",
       "      <td>-0.293294</td>\n",
       "      <td>-0.449868</td>\n",
       "      <td>0.572540</td>\n",
       "      <td>1.138180</td>\n",
       "      <td>-0.875451</td>\n",
       "    </tr>\n",
       "    <tr>\n",
       "      <th>64</th>\n",
       "      <td>0.476758</td>\n",
       "      <td>1.161395</td>\n",
       "      <td>-0.496904</td>\n",
       "      <td>1.209717</td>\n",
       "      <td>-0.558291</td>\n",
       "      <td>-0.744208</td>\n",
       "      <td>0.896421</td>\n",
       "      <td>0.809776</td>\n",
       "      <td>0.46569</td>\n",
       "      <td>0.512348</td>\n",
       "      <td>-0.293294</td>\n",
       "      <td>-0.449868</td>\n",
       "      <td>0.572540</td>\n",
       "      <td>1.138180</td>\n",
       "      <td>-0.875451</td>\n",
       "    </tr>\n",
       "    <tr>\n",
       "      <th>47</th>\n",
       "      <td>-0.113007</td>\n",
       "      <td>1.161395</td>\n",
       "      <td>-0.496904</td>\n",
       "      <td>1.209717</td>\n",
       "      <td>-0.558291</td>\n",
       "      <td>-0.744208</td>\n",
       "      <td>0.896421</td>\n",
       "      <td>0.809776</td>\n",
       "      <td>0.46569</td>\n",
       "      <td>0.512348</td>\n",
       "      <td>-0.293294</td>\n",
       "      <td>-0.449868</td>\n",
       "      <td>0.572540</td>\n",
       "      <td>1.138180</td>\n",
       "      <td>-0.875451</td>\n",
       "    </tr>\n",
       "    <tr>\n",
       "      <th>44</th>\n",
       "      <td>-0.217083</td>\n",
       "      <td>1.161395</td>\n",
       "      <td>-0.496904</td>\n",
       "      <td>1.209717</td>\n",
       "      <td>-0.558291</td>\n",
       "      <td>-0.744208</td>\n",
       "      <td>0.896421</td>\n",
       "      <td>0.809776</td>\n",
       "      <td>0.46569</td>\n",
       "      <td>0.512348</td>\n",
       "      <td>-0.293294</td>\n",
       "      <td>-0.449868</td>\n",
       "      <td>0.572540</td>\n",
       "      <td>1.138180</td>\n",
       "      <td>-0.875451</td>\n",
       "    </tr>\n",
       "  </tbody>\n",
       "</table>\n",
       "<p>80 rows × 15 columns</p>\n",
       "</div>"
      ],
      "text/plain": [
       "          0         1         2         3         4         5         6   \\\n",
       "62  0.407374 -0.861034 -0.496904 -0.826640 -0.558291 -0.744208  0.896421   \n",
       "3  -1.604764  1.161395 -0.496904  1.209717 -0.558291 -0.744208  0.896421   \n",
       "71  0.719602 -0.861034  2.012461 -0.826640 -0.558291 -0.744208  0.896421   \n",
       "45 -0.182391  1.161395 -0.496904  1.209717 -0.558291 -0.744208  0.896421   \n",
       "48 -0.078315  1.161395 -0.496904  1.209717 -0.558291  1.343710  0.896421   \n",
       "..       ...       ...       ...       ...       ...       ...       ...   \n",
       "97  1.621595  1.161395 -0.496904 -0.826640  1.791182 -0.744208 -1.115547   \n",
       "67  0.580834  1.161395 -0.496904  1.209717 -0.558291 -0.744208  0.896421   \n",
       "64  0.476758  1.161395 -0.496904  1.209717 -0.558291 -0.744208  0.896421   \n",
       "47 -0.113007  1.161395 -0.496904  1.209717 -0.558291 -0.744208  0.896421   \n",
       "44 -0.217083  1.161395 -0.496904  1.209717 -0.558291 -0.744208  0.896421   \n",
       "\n",
       "          7        8         9         10        11        12        13  \\\n",
       "62  0.809776  0.46569  0.512348  3.409545 -0.449868 -1.404435 -0.878595   \n",
       "3   0.809776  0.46569  0.512348 -0.293294 -0.449868  0.572540  1.138180   \n",
       "71 -1.234909  0.46569  0.512348 -0.293294 -0.449868 -0.415948  1.138180   \n",
       "45  0.809776  0.46569  0.512348 -0.293294 -0.449868  0.572540  1.138180   \n",
       "48  0.809776  0.46569  0.512348 -0.293294 -0.449868  0.572540  1.138180   \n",
       "..       ...      ...       ...       ...       ...       ...       ...   \n",
       "97 -1.234909 -2.14735  0.512348  3.409545 -0.449868  1.561027 -0.878595   \n",
       "67  0.809776  0.46569  0.512348 -0.293294 -0.449868  0.572540  1.138180   \n",
       "64  0.809776  0.46569  0.512348 -0.293294 -0.449868  0.572540  1.138180   \n",
       "47  0.809776  0.46569  0.512348 -0.293294 -0.449868  0.572540  1.138180   \n",
       "44  0.809776  0.46569  0.512348 -0.293294 -0.449868  0.572540  1.138180   \n",
       "\n",
       "          14  \n",
       "62  0.080447  \n",
       "3  -0.875451  \n",
       "71 -0.397502  \n",
       "45 -0.875451  \n",
       "48 -0.875451  \n",
       "..       ...  \n",
       "97  1.514294  \n",
       "67 -0.875451  \n",
       "64 -0.875451  \n",
       "47 -0.875451  \n",
       "44 -0.875451  \n",
       "\n",
       "[80 rows x 15 columns]"
      ]
     },
     "execution_count": 112,
     "metadata": {},
     "output_type": "execute_result"
    }
   ],
   "source": [
    "x_train"
   ]
  },
  {
   "cell_type": "markdown",
   "id": "c607503c",
   "metadata": {},
   "source": [
    "# Creating the model MultiLinearRegression Model"
   ]
  },
  {
   "cell_type": "code",
   "execution_count": 113,
   "id": "9b917218",
   "metadata": {},
   "outputs": [],
   "source": [
    "from sklearn.linear_model import LinearRegression"
   ]
  },
  {
   "cell_type": "code",
   "execution_count": 114,
   "id": "ae4b3b0f",
   "metadata": {},
   "outputs": [
    {
     "data": {
      "text/plain": [
       "LinearRegression()"
      ]
     },
     "execution_count": 114,
     "metadata": {},
     "output_type": "execute_result"
    }
   ],
   "source": [
    "mlr=LinearRegression()\n",
    "mlr.fit(x_train,y_train)"
   ]
  },
  {
   "cell_type": "code",
   "execution_count": 115,
   "id": "15deb24c",
   "metadata": {},
   "outputs": [],
   "source": [
    "predict=mlr.predict(x_test)"
   ]
  },
  {
   "cell_type": "code",
   "execution_count": 116,
   "id": "fdcb97bf",
   "metadata": {},
   "outputs": [],
   "source": [
    "predict=pd.DataFrame(predict)"
   ]
  },
  {
   "cell_type": "code",
   "execution_count": 117,
   "id": "fb0e5fde",
   "metadata": {},
   "outputs": [
    {
     "data": {
      "text/plain": [
       "(21, 1)"
      ]
     },
     "execution_count": 117,
     "metadata": {},
     "output_type": "execute_result"
    }
   ],
   "source": [
    "predict.shape"
   ]
  },
  {
   "cell_type": "code",
   "execution_count": 118,
   "id": "6a32a6dc",
   "metadata": {},
   "outputs": [
    {
     "data": {
      "text/plain": [
       "(21, 1)"
      ]
     },
     "execution_count": 118,
     "metadata": {},
     "output_type": "execute_result"
    }
   ],
   "source": [
    "y_test.shape"
   ]
  },
  {
   "cell_type": "code",
   "execution_count": 119,
   "id": "28a93e6a",
   "metadata": {},
   "outputs": [],
   "source": [
    "from sklearn.metrics import r2_score"
   ]
  },
  {
   "cell_type": "code",
   "execution_count": 120,
   "id": "cda88fc4",
   "metadata": {},
   "outputs": [
    {
     "data": {
      "text/plain": [
       "1.0"
      ]
     },
     "execution_count": 120,
     "metadata": {},
     "output_type": "execute_result"
    }
   ],
   "source": [
    "r2_score(predict,y_test)"
   ]
  },
  {
   "cell_type": "code",
   "execution_count": 100,
   "id": "d9d373a7",
   "metadata": {},
   "outputs": [
    {
     "data": {
      "text/plain": [
       "1.0"
      ]
     },
     "execution_count": 100,
     "metadata": {},
     "output_type": "execute_result"
    }
   ],
   "source": [
    "r2_score(mlr.predict(x_train),y_train)"
   ]
  },
  {
   "cell_type": "markdown",
   "id": "60a376c1",
   "metadata": {},
   "source": [
    "# Creating the model PolynomialLinearRegression Model"
   ]
  },
  {
   "cell_type": "code",
   "execution_count": 121,
   "id": "ba549611",
   "metadata": {},
   "outputs": [],
   "source": [
    "from sklearn.preprocessing import PolynomialFeatures"
   ]
  },
  {
   "cell_type": "code",
   "execution_count": 122,
   "id": "f9af1f25",
   "metadata": {},
   "outputs": [],
   "source": [
    "pr=PolynomialFeatures(degree=6)\n",
    "px=pr.fit_transform(x)"
   ]
  },
  {
   "cell_type": "code",
   "execution_count": 123,
   "id": "3b9b666b",
   "metadata": {},
   "outputs": [
    {
     "data": {
      "text/plain": [
       "array([[ 1.        , -1.70884021,  1.16139451, ...,  0.76093832,\n",
       "        -0.58528876,  0.45018489],\n",
       "       [ 1.        , -1.67414817,  1.16139451, ...,  0.76093832,\n",
       "        -0.58528876,  0.45018489],\n",
       "       [ 1.        , -1.63945614, -0.86103386, ...,  0.07504922,\n",
       "        -0.04769792,  0.03031465],\n",
       "       [ 1.        , -1.60476411,  1.16139451, ...,  0.76093832,\n",
       "        -0.58528876,  0.45018489],\n",
       "       [ 1.        , -1.57007208,  1.16139451, ...,  0.76093832,\n",
       "        -0.58528876,  0.45018489]])"
      ]
     },
     "execution_count": 123,
     "metadata": {},
     "output_type": "execute_result"
    }
   ],
   "source": [
    "px[:5]"
   ]
  },
  {
   "cell_type": "code",
   "execution_count": 124,
   "id": "f63d4b46",
   "metadata": {},
   "outputs": [
    {
     "data": {
      "text/plain": [
       "LinearRegression()"
      ]
     },
     "execution_count": 124,
     "metadata": {},
     "output_type": "execute_result"
    }
   ],
   "source": [
    "lr1=LinearRegression()\n",
    "lr1.fit(x_train,y_train)"
   ]
  },
  {
   "cell_type": "code",
   "execution_count": 142,
   "id": "205d48be",
   "metadata": {},
   "outputs": [
    {
     "data": {
      "text/plain": [
       "1.0"
      ]
     },
     "execution_count": 142,
     "metadata": {},
     "output_type": "execute_result"
    }
   ],
   "source": [
    "r2_score(lr1.predict(x_test),y_test)"
   ]
  }
 ],
 "metadata": {
  "kernelspec": {
   "display_name": "Python 3 (ipykernel)",
   "language": "python",
   "name": "python3"
  },
  "language_info": {
   "codemirror_mode": {
    "name": "ipython",
    "version": 3
   },
   "file_extension": ".py",
   "mimetype": "text/x-python",
   "name": "python",
   "nbconvert_exporter": "python",
   "pygments_lexer": "ipython3",
   "version": "3.9.7"
  }
 },
 "nbformat": 4,
 "nbformat_minor": 5
}
